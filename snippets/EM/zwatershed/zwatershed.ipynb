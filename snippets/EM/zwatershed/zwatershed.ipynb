{
 "cells": [
  {
   "cell_type": "code",
   "execution_count": 1,
   "metadata": {
    "collapsed": true
   },
   "outputs": [],
   "source": [
    "import os\n",
    "\n",
    "datadir = \"/Users/michielk/oxdata/P01/EM/Myrf_01/SET-B/B-NT-S10-2f_ROI_00/zws\"\n",
    "# pred_file = os.path.join(datadir, 'B-NT-S10-2f_ROI_00ds7_probs1_eed2_main.h5')  # dataset: 'main'\n",
    "pred_file = os.path.join(datadir, 'B-NT-S10-2f_ROI_00ds7_probs_main_vol00.h5')  # dataset: 'main'\n",
    "aff_file = os.path.join(datadir, 'B-NT-S10-2f_ROI_00ds7_probs_main_vol00_grad.h5')  # dataset: 'main'\n",
    "out_folder = os.path.join(datadir, 'zws_vol00_')\n",
    "outname = os.path.join(datadir, 'B-NT-S10-2f_ROI_00ds7_probs_zws.h5')  # dataset: 'main'\n",
    "max_len = 300\n"
   ]
  },
  {
   "cell_type": "code",
   "execution_count": 5,
   "metadata": {},
   "outputs": [],
   "source": [
    "# in conda root env\n",
    "import h5py\n",
    "import numpy as np\n",
    "from wmem import utils\n",
    "\n",
    "h5path_in = os.path.join(pred_file, 'main')\n",
    "h5file_in, ds_in, elsize, axlab = utils.h5_load(h5path_in)\n",
    "grad = np.array(np.absolute(np.gradient(ds_in[0,:,:,:], 1)))\n",
    "\n",
    "h5file_in.close()\n",
    "\n",
    "h5path_out = os.path.join(datadir, 'B-NT-S10-2f_ROI_00ds7_probs_main_vol00_absgrad.h5', 'main')\n",
    "h5file_out, ds_out = utils.h5_write(None, grad.shape, grad.dtype,\n",
    "                                    h5path_out,\n",
    "                                    element_size_um=elsize,\n",
    "                                    axislabels=axlab)\n",
    "ds_out[:] = grad\n",
    "h5file_out.close()\n"
   ]
  },
  {
   "cell_type": "code",
   "execution_count": null,
   "metadata": {
    "collapsed": true
   },
   "outputs": [],
   "source": []
  },
  {
   "cell_type": "code",
   "execution_count": null,
   "metadata": {
    "collapsed": true
   },
   "outputs": [],
   "source": [
    "from zwatershed import (partition_subvols,\n",
    "                        eval_with_par_map,\n",
    "                        eval_with_spark,\n",
    "                        stitch_and_save,\n",
    "                        merge_by_thresh)\n"
   ]
  },
  {
   "cell_type": "code",
   "execution_count": null,
   "metadata": {
    "collapsed": true
   },
   "outputs": [],
   "source": [
    "partition_data = partition_subvols(aff_file, out_folder, max_len)\n"
   ]
  },
  {
   "cell_type": "code",
   "execution_count": null,
   "metadata": {
    "collapsed": true
   },
   "outputs": [],
   "source": [
    "eval_with_spark(partition_data[0])\n",
    "# NUM_WORKERS=4\n",
    "# eval_with_par_map(partition_data[0], NUM_WORKERS)\n"
   ]
  },
  {
   "cell_type": "code",
   "execution_count": null,
   "metadata": {
    "collapsed": true
   },
   "outputs": [],
   "source": [
    "stitch_and_save(partition_data, outname)\n"
   ]
  },
  {
   "cell_type": "code",
   "execution_count": null,
   "metadata": {},
   "outputs": [],
   "source": [
    "%matplotlib nbagg\n",
    "\n",
    "import numpy as np\n",
    "import sys\n",
    "import time\n",
    "import os\n",
    "import h5py\n",
    "import os.path as op\n",
    "import matplotlib\n",
    "import matplotlib.cm as cm\n",
    "import matplotlib.pyplot as plt\n",
    "from multiprocessing import Pool\n",
    "from itertools import product\n",
    "from zwatershed import (partition_subvols,\n",
    "                        eval_with_par_map,\n",
    "                        stitch_and_save,\n",
    "                        merge_by_thresh)\n",
    "# from par_funcs import *\n",
    "# sys.path.append('..')\n",
    "cmap = matplotlib.colors.ListedColormap(np.vstack( ((0, 0, 0), np.random.rand(1e6, 3))) )\n",
    "V = 20\n",
    "\n",
    "datadir = \"/Users/michielk/oxdata/P01/EM/Myrf_01/SET-B/B-NT-S10-2f_ROI_00/zws\"\n",
    "# zwsbase = os.path.join(datadir, \"zws\")\n",
    "outname = os.path.join(datadir, 'B-NT-S10-2f_ROI_00ds7_probs_zws.h5')  # dataset: 'main'\n"
   ]
  },
  {
   "cell_type": "code",
   "execution_count": null,
   "metadata": {},
   "outputs": [],
   "source": [
    "orig_file = h5py.File(aff_file,'r')\n",
    "start = np.array([0, 0, 0])\n",
    "stop = np.array([191, 301, 244])\n",
    "fig, axs = plt.subplots(1, 3)\n",
    "for i in range(0, 3):\n",
    "    orig = orig_file['main'][i, start[0]:stop[0], start[1]:stop[1], start[2]:stop[2]]\n",
    "    ax = axs[i]\n",
    "    cax = ax.imshow(orig[V,:,:], cmap=plt.get_cmap('Greys'))\n",
    "    cbar = fig.colorbar(cax, ax=ax, orientation='horizontal')\n",
    "    ax.set_title('orig{}'.format(i))\n",
    "orig_file.close()\n",
    "plt.show()\n"
   ]
  },
  {
   "cell_type": "code",
   "execution_count": null,
   "metadata": {},
   "outputs": [],
   "source": [
    "num, thresh = 0, 1000.0\n",
    "fig, axs = plt.subplots(1, 2)\n",
    "\n",
    "basic_file = h5py.File(os.path.join(datadir, 'zws_vol01_0_0_0_vol', 'basic.h5'),'r')\n",
    "seg_init = np.array(basic_file['seg'])\n",
    "rg_init = np.array(basic_file['rg'])\n",
    "keeps = rg_init[:,0]<rg_init[:,1]\n",
    "rg_init = rg_init[keeps,:]\n",
    "seg_sizes_init = np.array(basic_file['counts'])\n",
    "basic_file.close()\n",
    "ax = axs[0]\n",
    "ax.imshow(seg_init[V,:,:], cmap=cmap)\n",
    "ax.set_title('seg_init')\n",
    "\n",
    "f = h5py.File(outname, 'a')\n",
    "s,e = f['starts'][num],f['ends'][num]\n",
    "seg = f['seg'][s[0]:e[0]-3,s[1]:e[1]-3,s[2]:e[2]-3]\n",
    "seg_sizes = np.array(f['seg_sizes'])\n",
    "rg = np.array(f['rg_'+str(num)])\n",
    "f.close()\n",
    "ax = axs[1]\n",
    "ax.imshow(seg[V,:,:], cmap=cmap)\n",
    "ax.set_title('seg_after_stitching')\n",
    "\n",
    "plt.show()\n",
    "\n",
    "print \"num_segs\",len(np.unique(seg_init)),len(np.unique(seg))\n",
    "print \"rg lens\",len(rg_init),len(rg)\n"
   ]
  },
  {
   "cell_type": "code",
   "execution_count": null,
   "metadata": {
    "collapsed": true
   },
   "outputs": [],
   "source": []
  },
  {
   "cell_type": "code",
   "execution_count": null,
   "metadata": {},
   "outputs": [],
   "source": [
    "num, thresh = 0, 0.5\n",
    "seg_init_merged = merge_by_thresh(seg_init, seg_sizes_init, rg_init, thresh)\n",
    "seg_merged = merge_by_thresh(seg, seg_sizes, rg, thresh)\n"
   ]
  },
  {
   "cell_type": "code",
   "execution_count": null,
   "metadata": {},
   "outputs": [],
   "source": [
    "fig, axs = plt.subplots(1, 2)\n",
    "\n",
    "ax = axs[0]\n",
    "ax.imshow(seg_init_merged[V,:,:], cmap=cmap)\n",
    "ax.set_title('merged init')\n",
    "\n",
    "ax = axs[1]\n",
    "ax.imshow(seg_merged[V,:,:], cmap=cmap)\n",
    "ax.set_title('merged')\n",
    "\n",
    "plt.show()\n",
    "\n",
    "print \"num_segs\",len(np.unique(seg_init)),len(np.unique(seg))\n",
    "print \"rg lens\",len(rg_init),len(rg)\n"
   ]
  },
  {
   "cell_type": "code",
   "execution_count": null,
   "metadata": {
    "collapsed": true
   },
   "outputs": [],
   "source": []
  }
 ],
 "metadata": {
  "kernelspec": {
   "display_name": "Python [conda root]",
   "language": "python",
   "name": "conda-root-py"
  },
  "language_info": {
   "codemirror_mode": {
    "name": "ipython",
    "version": 2
   },
   "file_extension": ".py",
   "mimetype": "text/x-python",
   "name": "python",
   "nbconvert_exporter": "python",
   "pygments_lexer": "ipython2",
   "version": "2.7.14"
  }
 },
 "nbformat": 4,
 "nbformat_minor": 2
}
