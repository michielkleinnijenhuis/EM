{
 "cells": [
  {
   "cell_type": "code",
   "execution_count": null,
   "metadata": {
    "collapsed": true
   },
   "outputs": [],
   "source": [
    "%matplotlib nbagg\n",
    "\n",
    "import os\n",
    "import h5py\n",
    "import numpy as np\n",
    "from sklearn import svm\n",
    "import pickle\n",
    "from sklearn.externals import joblib\n",
    "from sklearn import preprocessing\n",
    "from skimage.morphology import binary_dilation\n",
    "from wmem import utils, stack2stack\n",
    "\n",
    "datadir = \"/Users/michielk/oxdata/P01/EM/Myrf_01/SET-B/B-NT-S10-2f_ROI_00/M3S1GNUds7\"\n",
    "\n",
    "labelfile = 'M3S1GNUds7_labelMA_core2D_fw_nf_label.h5'\n",
    "maskfile = 'M3S1GNUds7_maskMA_final.h5'\n",
    "basename = os.path.join(datadir, 'M3S1GNUds7_labels_mapall')\n",
    "props = ('label', 'area', 'eccentricity', 'mean_intensity', 'solidity', 'extent', 'euler_number')\n",
    "\n",
    "labelpath = os.path.join(datadir, labelfile, 'stack')\n",
    "maskpath = os.path.join(datadir, maskfile, 'stack')\n",
    "# basename = os.path.join(datadir, 'M3S1GNUds7_labelMA_core2D_fw_nf_mapall')\n",
    "gtpath = '{}_{}.npy'.format(basename, 'groundtruth')\n",
    "predpath = '{}_{}.npy'.format(basename, 'pred')\n",
    "clfpath = os.path.join(datadir, 'clf_test.pkl')\n",
    "scalerpath = os.path.join(datadir, 'scaler_test.pkl')\n",
    "\n",
    "float_formatter = lambda x: \"%.02f\" % x\n",
    "np.set_printoptions(formatter={'float_kind':float_formatter})\n"
   ]
  },
  {
   "cell_type": "code",
   "execution_count": null,
   "metadata": {
    "collapsed": true
   },
   "outputs": [],
   "source": [
    "# determine ground truth\n",
    "\n",
    "## get 2D labels and mask of identified 3D MA compartment\n",
    "f = h5py.File(os.path.join(datadir, labelfile), 'r')\n",
    "labels = f['stack'][:]\n",
    "m = h5py.File(os.path.join(datadir, maskfile), 'r')\n",
    "mask = m['stack'][:].astype('bool')\n",
    "m.close()\n",
    "f.close()\n",
    "\n",
    "## split the labels in MA and notMA\n",
    "labelsALL = np.unique(labels)\n",
    "maskdil = binary_dilation(mask)\n",
    "labelsMA = np.unique(labels[maskdil])\n",
    "labelsNOTMA = np.unique(labels[~maskdil])\n",
    "\n",
    "## filter labels that are split between compartments\n",
    "labelsTRUE = set(labelsMA) - set(labelsNOTMA)\n",
    "labelsFALSE = set(labelsALL) - set(labelsMA)\n",
    "print(len(labelsTRUE), len(labelsFALSE))\n",
    "\n",
    "## generate final ground truth labels\n",
    "y = np.zeros_like(labelsALL, dtype='bool')\n",
    "for l in labelsTRUE:\n",
    "    y[l] = True\n",
    "y[0] = False\n",
    "np.save(gtpath, y)\n"
   ]
  },
  {
   "cell_type": "code",
   "execution_count": null,
   "metadata": {
    "collapsed": true
   },
   "outputs": [],
   "source": [
    "# map the groundtruth labels to a volume\n",
    "\n",
    "h5file_in, ds_in, elsize, axlab = utils.h5_load(labelpath)\n",
    "\n",
    "h5path_out = os.path.join(datadir, 'M3S1GNUds7_gt.h5')\n",
    "\n",
    "h5file_out, ds_out = utils.h5_write(None, ds_in.shape, 'uint8',\n",
    "                                    os.path.join(h5path_out, 'class0'),\n",
    "                                    element_size_um=elsize,\n",
    "                                    axislabels=axlab)\n",
    "ds_out[:] = ~y[ds_in[:]]\n",
    "h5file_out.close()\n",
    "\n",
    "h5file_out, ds_out = utils.h5_write(None, ds_in.shape, 'uint8',\n",
    "                                    os.path.join(h5path_out, 'class1'),\n",
    "                                    element_size_um=elsize,\n",
    "                                    axislabels=axlab)\n",
    "ds_out[:] = y[ds_in[:]]\n",
    "h5file_out.close()\n",
    "\n",
    "h5file_in.close()\n",
    "\n",
    "# convert to nifti\n",
    "niipath_out = os.path.join(datadir, 'M3S1GNUds7_gt_class0.nii.gz')\n",
    "_ = stack2stack.stack2stack(os.path.join(h5path_out, 'class0'), niipath_out, inlayout='zyx', outlayout='xyz')\n",
    "niipath_out = os.path.join(datadir, 'M3S1GNUds7_gt_class1.nii.gz')\n",
    "_ = stack2stack.stack2stack(os.path.join(h5path_out, 'class1'), niipath_out, inlayout='zyx', outlayout='xyz')\n"
   ]
  },
  {
   "cell_type": "code",
   "execution_count": null,
   "metadata": {
    "collapsed": true
   },
   "outputs": [],
   "source": [
    "# load the ground truth labels and remove the background\n",
    "y_train = np.load(gtpath)\n",
    "y_train = y_train[1:]\n",
    "print(np.sum(y_train), np.sum(~y_train))\n"
   ]
  },
  {
   "cell_type": "code",
   "execution_count": null,
   "metadata": {
    "collapsed": true
   },
   "outputs": [],
   "source": [
    "# load the training data (minus the background label)\n",
    "X_train = np.zeros([y_train.shape[0], len(props) - 1])\n",
    "for i, propname in enumerate(props[1:]):\n",
    "    nppath = '{}_{}.npy'.format(basename, propname)\n",
    "    X_train[:,i] = np.load(nppath)[1:]\n"
   ]
  },
  {
   "cell_type": "code",
   "execution_count": null,
   "metadata": {
    "collapsed": true
   },
   "outputs": [],
   "source": [
    "# scale the training data\n",
    "print(np.mean(X_train, axis=0))\n",
    "print(np.mean(X_train[y_train,:], axis=0))\n",
    "print(np.mean(X_train[~y_train,:], axis=0))\n",
    "\n",
    "# X_train_scaled = preprocessing.scale(X_train)\n",
    "# scaler = preprocessing.StandardScaler().fit(X_train)\n",
    "# print(scaler.mean_)\n",
    "# print(scaler.scale_)\n",
    "# X_train_scaled = scaler.transform(X_train)\n",
    "scaler = preprocessing.MaxAbsScaler()\n",
    "X_train_scaled = scaler.fit_transform(X_train)\n",
    "joblib.dump(scaler, scalerpath)\n"
   ]
  },
  {
   "cell_type": "code",
   "execution_count": null,
   "metadata": {
    "collapsed": true
   },
   "outputs": [],
   "source": [
    "# plot the training data\n",
    "import matplotlib.pyplot as plt\n",
    "from matplotlib.colors import ListedColormap\n",
    "from matplotlib import cm\n",
    "\n",
    "plt.figure()\n",
    "X0 = X_train_scaled[y_train,:]\n",
    "X1 = X_train_scaled[~y_train,:]\n",
    "print(X0.shape, X1.shape)\n",
    "\n",
    "plt.scatter(X0[::100, 1], X0[::100, 2], c=[1,0,0],\n",
    "            alpha=0.5, edgecolor='k',\n",
    "            label=\"Class0\")\n",
    "plt.scatter(X1[::100, 1], X1[::100, 2], c=[0,0,1],\n",
    "            alpha=0.5, edgecolor='k',\n",
    "            label=\"Class1\")\n"
   ]
  },
  {
   "cell_type": "code",
   "execution_count": null,
   "metadata": {
    "collapsed": true
   },
   "outputs": [],
   "source": [
    "# fit the support vector classifier\n",
    "clf = svm.SVC()\n",
    "# clf.fit(X_train_scaled[::100], y_train[::100])\n",
    "clf.fit(X_train_scaled, y_train)\n",
    "joblib.dump(clf, clfpath)\n",
    "joblib.dump(scaler, scalerpath)\n"
   ]
  },
  {
   "cell_type": "code",
   "execution_count": null,
   "metadata": {
    "collapsed": true
   },
   "outputs": [],
   "source": [
    "scaler = joblib.load(scalerpath)\n",
    "clf = joblib.load(clfpath)\n"
   ]
  },
  {
   "cell_type": "code",
   "execution_count": null,
   "metadata": {
    "collapsed": true
   },
   "outputs": [],
   "source": [
    "# load and scale the test data\n",
    "datadir = \"/Users/michielk/oxdata/P01/EM/Myrf_01/SET-B/B-NT-S10-2f_ROI_00\"\n",
    "basename = os.path.join(datadir, 'B-NT-S10-2f_ROI_00ds7_labels_mapall')\n",
    "nppath = '{}_{}.npy'.format(basename, props[0])\n",
    "tmp = np.load(nppath)[1:]\n",
    "\n",
    "X_test = np.zeros([tmp.shape[0], len(props) - 1])\n",
    "for i, propname in enumerate(props[1:]):\n",
    "    nppath = '{}_{}.npy'.format(basename, propname)\n",
    "    X_test[:,i] = np.load(nppath)[1:]\n",
    "\n",
    "X_test_scaled = scaler.transform(X_test)\n"
   ]
  },
  {
   "cell_type": "code",
   "execution_count": null,
   "metadata": {
    "collapsed": true
   },
   "outputs": [],
   "source": [
    "# prediction on test data\n",
    "pred = clf.predict(X_test_scaled)\n"
   ]
  },
  {
   "cell_type": "code",
   "execution_count": null,
   "metadata": {
    "collapsed": true
   },
   "outputs": [],
   "source": [
    "# save the results\n",
    "\n",
    "## reinsert the background label\n",
    "fw = np.insert(pred, 0, [False])\n",
    "\n",
    "## save the predicted labels\n",
    "predpath = '{}_{}.npy'.format(basename, 'pred')\n",
    "np.save(predpath, fw)\n"
   ]
  },
  {
   "cell_type": "code",
   "execution_count": null,
   "metadata": {
    "collapsed": true
   },
   "outputs": [],
   "source": [
    "datadir = \"/Users/michielk/oxdata/P01/EM/Myrf_01/SET-B/B-NT-S10-2f_ROI_00\"\n",
    "basename = os.path.join(datadir, 'B-NT-S10-2f_ROI_00ds7_labels_mapall')\n",
    "predpath = '{}_{}.npy'.format(basename, 'pred')\n",
    "fw = np.load(predpath)\n"
   ]
  },
  {
   "cell_type": "code",
   "execution_count": null,
   "metadata": {
    "collapsed": true
   },
   "outputs": [],
   "source": [
    "## map to volume\n",
    "h5path_in = os.path.join(datadir, 'B-NT-S10-2f_ROI_00ds7_labels.h5', 'labelMA_core2D')\n",
    "h5file_in, ds_in, elsize, axlab = utils.h5_load(h5path_in)\n",
    "a = ds_in[:]\n",
    "h5file_in.close()\n",
    "\n",
    "h5path_out = os.path.join(datadir, 'B-NT-S10-2f_ROI_00ds7_labels.h5', 'labelMA_core2D_prediction')\n",
    "h5file_out, ds_out = utils.h5_write(None, a.shape, a.dtype,\n",
    "                                    h5path_out,\n",
    "                                    element_size_um=elsize,\n",
    "                                    axislabels=axlab)\n",
    "\n",
    "mask = fw[a]\n",
    "a[~mask] = 0\n",
    "ds_out[:] = a\n",
    "h5file_out.close()\n"
   ]
  },
  {
   "cell_type": "code",
   "execution_count": null,
   "metadata": {
    "collapsed": true
   },
   "outputs": [],
   "source": [
    "## convert to nifti\n",
    "niipath_out = os.path.join(datadir, 'B-NT-S10-2f_ROI_00ds7_labels_labelMA_core2D_prediction.nii.gz')\n",
    "_ = stack2stack.stack2stack(h5path_out, niipath_out)  # , inlayout='zyx', outlayout='xyz'\n"
   ]
  },
  {
   "cell_type": "code",
   "execution_count": null,
   "metadata": {
    "collapsed": true
   },
   "outputs": [],
   "source": []
  },
  {
   "cell_type": "code",
   "execution_count": null,
   "metadata": {
    "collapsed": true
   },
   "outputs": [],
   "source": [
    "# print(pred)\n",
    "# print(pred_gt)\n",
    "pred_gt = y\n",
    "a = np.logical_xor(pred, pred_gt)\n",
    "print(len(a), np.sum(~a) / float(len(a)))\n"
   ]
  },
  {
   "cell_type": "code",
   "execution_count": null,
   "metadata": {
    "collapsed": true
   },
   "outputs": [],
   "source": [
    "h5path_out = os.path.join(datadir, 'M3S1GNUds7_pred.h5', 'stack')\n",
    "h5file_in, ds_in, elsize, axlab = utils.h5_load(labelpath)\n",
    "h5file_out, ds_out = utils.h5_write(None, ds_in.shape, 'uint8',\n",
    "                                    h5path_out,\n",
    "                                    element_size_um=elsize,\n",
    "                                    axislabels=axlab)\n",
    "\n",
    "ds_out[:] = fw[ds_in[:]]\n",
    "\n",
    "h5file_in.close()\n",
    "h5file_out.close()\n",
    "\n",
    "niipath_out = os.path.join(datadir, 'M3S1GNUds7_pred.nii.gz')\n",
    "_ = stack2stack.stack2stack(h5path_out, niipath_out, inlayout='zyx', outlayout='xyz')\n"
   ]
  },
  {
   "cell_type": "code",
   "execution_count": null,
   "metadata": {
    "collapsed": true
   },
   "outputs": [],
   "source": []
  }
 ],
 "metadata": {
  "kernelspec": {
   "display_name": "Python [default]",
   "language": "python",
   "name": "python2"
  },
  "language_info": {
   "codemirror_mode": {
    "name": "ipython",
    "version": 2
   },
   "file_extension": ".py",
   "mimetype": "text/x-python",
   "name": "python",
   "nbconvert_exporter": "python",
   "pygments_lexer": "ipython2",
   "version": "2.7.13"
  }
 },
 "nbformat": 4,
 "nbformat_minor": 2
}
