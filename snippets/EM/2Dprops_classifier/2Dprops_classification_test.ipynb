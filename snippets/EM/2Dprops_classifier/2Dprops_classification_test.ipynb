{
 "cells": [
  {
   "cell_type": "code",
   "execution_count": 3,
   "metadata": {
    "collapsed": true
   },
   "outputs": [],
   "source": [
    "%matplotlib nbagg\n",
    "\n",
    "import os\n",
    "import h5py\n",
    "import numpy as np\n",
    "from sklearn import svm\n",
    "import pickle\n",
    "from sklearn.externals import joblib\n",
    "from sklearn import preprocessing\n",
    "from skimage.morphology import binary_dilation\n",
    "from wmem import utils, stack2stack\n",
    "\n",
    "datadir_train = \"/Users/michielk/oxdata/P01/EM/M3/M3S1GNU\"\n",
    "dataset_train = 'M3S1GNUds7'\n",
    "\n",
    "clfpath = os.path.join(datadir_train, '{}_clf.pkl'.format(dataset_train))\n",
    "scalerpath = os.path.join(datadir_train, '{}_scaler.pkl'.format(dataset_train))\n",
    "\n",
    "datadir = \"/Users/michielk/oxdata/P01/EM/Myrf_01/SET-B/B-NT-S10-2f_ROI_00\"\n",
    "dataset = 'B-NT-S10-2f_ROI_00ds7'\n",
    "basename = os.path.join(datadir, '{}_labels_mapall'.format(dataset))\n",
    "\n",
    "labelfile = '{}_labels.h5'.format(dataset)\n",
    "labeldset = 'labelMA_core2D'\n",
    "labelpath = os.path.join(datadir, labelfile, labeldset)\n",
    "\n",
    "props = ('label', 'area', 'eccentricity', 'mean_intensity',\n",
    "         'solidity', 'extent', 'euler_number')\n",
    "\n",
    "float_formatter = lambda x: \"%.02f\" % x\n",
    "np.set_printoptions(formatter={'float_kind':float_formatter})\n"
   ]
  },
  {
   "cell_type": "code",
   "execution_count": 17,
   "metadata": {
    "collapsed": true
   },
   "outputs": [],
   "source": [
    "scaler = joblib.load(scalerpath)\n",
    "clf = joblib.load(clfpath)\n"
   ]
  },
  {
   "cell_type": "code",
   "execution_count": 19,
   "metadata": {
    "collapsed": true
   },
   "outputs": [],
   "source": [
    "# load and scale the test data\n",
    "\n",
    "nppath = '{}_{}.npy'.format(basename, props[0])\n",
    "tmp = np.load(nppath)[1:]\n",
    "\n",
    "X_test = np.zeros([tmp.shape[0], len(props) - 1])\n",
    "for i, propname in enumerate(props[1:]):\n",
    "    nppath = '{}_{}.npy'.format(basename, propname)\n",
    "    X_test[:,i] = np.load(nppath)[1:]\n",
    "\n",
    "X_test_scaled = scaler.transform(X_test)\n"
   ]
  },
  {
   "cell_type": "code",
   "execution_count": 20,
   "metadata": {
    "collapsed": true
   },
   "outputs": [],
   "source": [
    "# prediction on test data\n",
    "pred = clf.predict(X_test_scaled)\n"
   ]
  },
  {
   "cell_type": "code",
   "execution_count": 21,
   "metadata": {
    "collapsed": true
   },
   "outputs": [],
   "source": [
    "# save the results\n",
    "\n",
    "## reinsert the background label\n",
    "fw = np.insert(pred, 0, [False])\n",
    "\n",
    "## save the predicted labels\n",
    "predpath = '{}_{}.npy'.format(basename, 'pred')\n",
    "np.save(predpath, fw)\n"
   ]
  },
  {
   "cell_type": "code",
   "execution_count": 22,
   "metadata": {
    "collapsed": true
   },
   "outputs": [],
   "source": [
    "# load the prediction and apply additional criteria\n",
    "\n",
    "predpath = '{}_{}.npy'.format(basename, 'pred')\n",
    "fw = np.load(predpath)\n",
    "\n",
    "propname = 'label'\n",
    "nppath = '{}_{}.npy'.format(basename, propname)\n",
    "fw_all = np.load(nppath)\n",
    "\n",
    "propname = 'mean_intensity'\n",
    "nppath = '{}_{}.npy'.format(basename, propname)\n",
    "fwf = np.load(nppath)\n",
    "m = fwf > 0.8  # always include\n",
    "fw[m] = fw_all[m]\n",
    "\n",
    "propname = 'area'\n",
    "nppath = '{}_{}.npy'.format(basename, propname)\n",
    "fwf = np.load(nppath)\n",
    "m = fwf > 3000  # always exclude\n",
    "fw[m] = 0\n"
   ]
  },
  {
   "cell_type": "code",
   "execution_count": 35,
   "metadata": {
    "collapsed": true
   },
   "outputs": [],
   "source": [
    "## map to volume\n",
    "\n",
    "h5file_in, ds_in, elsize, axlab = utils.h5_load(labelpath)\n",
    "a = ds_in[:]\n",
    "h5file_in.close()\n",
    "\n",
    "# myelinated axon labels\n",
    "h5path_out = os.path.join(labelfile, '{}_prediction'.format(labeldset))\n",
    "h5file_out, ds_out = utils.h5_write(None, a.shape, a.dtype,\n",
    "                                    h5path_out,\n",
    "                                    element_size_um=elsize,\n",
    "                                    axislabels=axlab)\n",
    "\n",
    "mask = fw[a]\n",
    "a[~mask] = 0\n",
    "ds_out[:] = a\n",
    "h5file_out.close()\n",
    "\n",
    "# myelinated axon mask\n",
    "h5path_out = os.path.join(datadir, '{}_masks_maskPRED.h5'.format(dataset), 'maskMA')\n",
    "h5file_out, ds_out = utils.h5_write(None, a.shape, 'bool',\n",
    "                                    h5path_out,\n",
    "                                    element_size_um=elsize,\n",
    "                                    axislabels=axlab)\n",
    "ds_out[:] = a.astype('bool')\n",
    "h5file_out.close()\n"
   ]
  },
  {
   "cell_type": "code",
   "execution_count": 36,
   "metadata": {},
   "outputs": [
    {
     "name": "stdout",
     "output_type": "stream",
     "text": [
      "INFO: writing to /Users/michielk/oxdata/P01/EM/Myrf_01/SET-B/B-NT-S10-2f_ROI_00\n",
      "INFO: writing to /Users/michielk/oxdata/P01/EM/Myrf_01/SET-B/B-NT-S10-2f_ROI_00\n"
     ]
    }
   ],
   "source": [
    "## convert to nifti\n",
    "niipath_out = os.path.join(datadir, '{}_labels_{}_prediction.nii.gz'.format(dataset, labeldset))\n",
    "_ = stack2stack.stack2stack(h5path_out, niipath_out, inlayout='zyx', outlayout='xyz')\n",
    "\n",
    "niipath_out = os.path.join(datadir, '{}_masks_maskPRED_maskMA.nii.gz'.format(dataset))\n",
    "_ = stack2stack.stack2stack(h5path_out, niipath_out, inlayout='zyx', outlayout='xyz')\n"
   ]
  },
  {
   "cell_type": "code",
   "execution_count": null,
   "metadata": {
    "collapsed": true
   },
   "outputs": [],
   "source": []
  }
 ],
 "metadata": {
  "kernelspec": {
   "display_name": "Python [conda root]",
   "language": "python",
   "name": "conda-root-py"
  },
  "language_info": {
   "codemirror_mode": {
    "name": "ipython",
    "version": 2
   },
   "file_extension": ".py",
   "mimetype": "text/x-python",
   "name": "python",
   "nbconvert_exporter": "python",
   "pygments_lexer": "ipython2",
   "version": "2.7.14"
  }
 },
 "nbformat": 4,
 "nbformat_minor": 2
}
