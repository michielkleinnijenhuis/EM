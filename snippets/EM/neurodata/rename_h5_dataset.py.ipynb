{
 "cells": [
  {
   "cell_type": "code",
   "execution_count": 1,
   "metadata": {
    "collapsed": true
   },
   "outputs": [],
   "source": [
    "import os\n",
    "import h5py\n",
    "import glob"
   ]
  },
  {
   "cell_type": "code",
   "execution_count": 2,
   "metadata": {
    "collapsed": false
   },
   "outputs": [],
   "source": [
    "datadir = \"/Users/michielk/oxdata/P01/EM/M3/M3_S1_GNU/M3S1GNU/ds7_ndio\"\n",
    "dset_name = 'M3S1GNUds7'\n",
    "\n",
    "in_file = os.path.join(datadir, dset_name + \".h5\")\n",
    "\n",
    "name_in = 'stack'\n",
    "name_out = 'image/CUTOUT'\n",
    "\n",
    "f = h5py.File(in_file, 'a')\n",
    "\n",
    "f[name_out] = f[name_in]\n",
    "del f[name_in]\n",
    "\n",
    "f.close()"
   ]
  }
 ],
 "metadata": {
  "kernelspec": {
   "display_name": "Python 3",
   "language": "python",
   "name": "python3"
  },
  "language_info": {
   "codemirror_mode": {
    "name": "ipython",
    "version": 3
   },
   "file_extension": ".py",
   "mimetype": "text/x-python",
   "name": "python",
   "nbconvert_exporter": "python",
   "pygments_lexer": "ipython3",
   "version": "3.5.2"
  }
 },
 "nbformat": 4,
 "nbformat_minor": 1
}
